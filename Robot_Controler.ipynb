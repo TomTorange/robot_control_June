{
 "cells": [
  {
   "cell_type": "markdown",
   "metadata": {},
   "source": [
    "# 控制迷宫寻宝机器人\n",
    "\n",
    "    在这个项目中，你将使用刚刚学到的知识，尝试根据要求，编写代码，来控制一个机器人，在模拟环境中行走，并找到目标宝藏。\n",
    "\n",
    "    机器人所在的模拟环境中，会包含这样几个因素：机器人的起点、障碍物、宝藏箱。你的任务包括：\n",
    "    1. 分析模拟环境的数据\n",
    "    2. 控制机器人随机行动\n",
    "    3. （可选）控制机器人走到终点\n",
    "\n",
    "  *  一个良好的含有注释的代码，可以让你的程序可读性更高，尝试为你自己的代码添加相应的注释。\n",
    "  ***"
   ]
  },
  {
   "cell_type": "markdown",
   "metadata": {},
   "source": [
    "***\n",
    "# 第一节 分析模拟环境的数据\n",
    "首先，只有足够了解机器人所在的环境，我们的机器人才能成功找到目标宝藏，因此首先我们来对机器人所在环境的数据进行分析。在这个部分，会考察你对数据结构、控制流的了解。\n",
    "\n",
    "### 1.1 理解模拟环境数据的储存格式\n",
    "首先我们思考这样的问题：如何存储模拟环境的数据呢？\n",
    "\n",
    "我们将我们的模拟环境抽象成一个格子世界，每个格子按照坐标编号进行标记；每个格子中会有四个情况，分别为普通格子（可通行）、机器人的起点（可通行）、障碍物（不可通行）、宝藏箱（目标点）。例如，一个模拟环境就可以抽象成3行4列的格子世界，并按这按这样的方法进行存储：\n",
    "\n",
    "environment = [[0,0,0,2], \n",
    "               [1,2,0,0],\n",
    "               [0,2,3,2]]\n",
    "我们用了一个列表来保存虚拟世界的数据。外层列表中的每一个元素依然是一个列表，它代表模拟环境中每行的数据。而对于这个列表中的每个元素都是一个数，它们的含义是：\n",
    "\n",
    "* 0: 普通格子（可通行）\n",
    "* 1: 机器人的起点（可通行）\n",
    "* 2: 障碍物（不可通行）\n",
    "* 3: 宝藏箱（目标点）\n",
    "\n",
    "那么，根据上述的数据，这个迷宫的第二行第一列，是我们机器人的起点。\n",
    "\n",
    "注：我们描述的迷宫的坐标位置（第一行第一列），和迷宫下标索引的值（如 (0,0)）是不一样的，请注意下标的问题。\n",
    "\n",
    "如下的代码，建立了模拟环境的数据。"
   ]
  },
  {
   "cell_type": "code",
   "execution_count": 38,
   "metadata": {
    "collapsed": true
   },
   "outputs": [],
   "source": [
    "import random\n",
    "import time\n",
    "\n",
    "MAZE_1 = [\n",
    "    [0,0,0,0,0,2,3],\n",
    "    [1,2,2,2,0,2,0],\n",
    "    [2,0,0,0,0,2,0],\n",
    "    [2,2,2,2,0,0,0]]\n",
    "\n",
    "MAZE_2 = [\n",
    "    [2,2,3,0,2,0],\n",
    "    [1,2,2,0,2,0],\n",
    "    [0,0,2,0,2,0],\n",
    "    [2,0,2,0,0,0],\n",
    "    [2,0,0,0,2,0]]\n",
    "\n",
    "MAZE_3 = [\n",
    "    [3,2,2,2,2,2,2,2,1],\n",
    "    [0,0,2,2,2,2,2,0,0],\n",
    "    [2,0,0,2,2,2,0,0,2],\n",
    "    [2,2,0,0,2,0,0,2,2],\n",
    "    [2,2,2,0,0,0,2,2,2]]\n",
    "\n",
    "MAZE_LIST = [MAZE_1, MAZE_2, MAZE_3]\n",
    "\n",
    "def fetch_maze():\n",
    "    maze_id = random.randint(0,len(MAZE_LIST)-1)\n",
    "    print(\"maze-id {}-{}\".format(1, round(time.time())))\n",
    "    print('['+str(MAZE_LIST[maze_id][0])+',')\n",
    "    for line in MAZE_LIST[maze_id][1:-1]:\n",
    "        print(' '+str(line)+',')\n",
    "    print(' '+str(MAZE_LIST[maze_id][-1])+']')\n",
    "    return MAZE_LIST[maze_id]"
   ]
  },
  {
   "cell_type": "markdown",
   "metadata": {},
   "source": [
    "* 模拟环境数据保存在env_data 变量中。"
   ]
  },
  {
   "cell_type": "code",
   "execution_count": 39,
   "metadata": {},
   "outputs": [
    {
     "name": "stdout",
     "output_type": "stream",
     "text": [
      "maze-id 1-1528854999\n",
      "[[3, 2, 2, 2, 2, 2, 2, 2, 1],\n",
      " [0, 0, 2, 2, 2, 2, 2, 0, 0],\n",
      " [2, 0, 0, 2, 2, 2, 0, 0, 2],\n",
      " [2, 2, 0, 0, 2, 0, 0, 2, 2],\n",
      " [2, 2, 2, 0, 0, 0, 2, 2, 2]]\n"
     ]
    }
   ],
   "source": [
    "env_data= fetch_maze()"
   ]
  },
  {
   "cell_type": "markdown",
   "metadata": {},
   "source": [
    "***\n",
    "任务1：在如下代码中，请写代码获得这些值：\n",
    "\n",
    "1. 模拟环境的长和宽\n",
    "2. 模拟环境中第3行第6列元素"
   ]
  },
  {
   "cell_type": "code",
   "execution_count": 40,
   "metadata": {},
   "outputs": [
    {
     "name": "stdout",
     "output_type": "stream",
     "text": [
      "[[3, 2, 2, 2, 2, 2, 2, 2, 1], [0, 0, 2, 2, 2, 2, 2, 0, 0], [2, 0, 0, 2, 2, 2, 0, 0, 2], [2, 2, 0, 0, 2, 0, 0, 2, 2], [2, 2, 2, 0, 0, 0, 2, 2, 2]]\n"
     ]
    }
   ],
   "source": [
    "## task 1\n",
    "#TODO 1模拟环境的行数\n",
    "rows = len(env_data[0])\n",
    "#TODO 2模拟环境的列数\n",
    "columns = len(env_data)\n",
    "#TODO 3取出模拟环境第三行第六列的元素\n",
    "row_3_col_6 = env_data[2][5]\n",
    "\n",
    "print(env_data)"
   ]
  },
  {
   "cell_type": "markdown",
   "metadata": {},
   "source": [
    "***\n",
    "## 1.2 分析模拟环境数据\n",
    "接着我们需要对模拟环境的中的数据进行分析。请根据如下的指示，计算相应的值。\n",
    "***"
   ]
  },
  {
   "cell_type": "markdown",
   "metadata": {},
   "source": [
    "任务2：计算模拟环境中，第一行和第三列的障碍物个数。\n",
    "\n",
    "以下：用循环完成。"
   ]
  },
  {
   "cell_type": "code",
   "execution_count": 41,
   "metadata": {},
   "outputs": [
    {
     "name": "stdout",
     "output_type": "stream",
     "text": [
      "7 3\n"
     ]
    }
   ],
   "source": [
    "## task2:\n",
    "#TODO 4计算模拟环境中，第一行的的障碍物个数。\n",
    "number_of_barriers_row1 = env_data[0].count(2)\n",
    "#TODO 5计算模拟环境中，第三列的的障碍物个数。\n",
    "number_of_barriers_col3 = 0\n",
    "for idx in range(len(env_data)):\n",
    "    if env_data[idx][2] == 2:\n",
    "        number_of_barriers_col3 +=1\n",
    "print(number_of_barriers_row1, number_of_barriers_col3)"
   ]
  },
  {
   "cell_type": "markdown",
   "metadata": {},
   "source": [
    "***\n",
    "任务3：在如下代码中：\n",
    "\n",
    "- 创建一个名为 loc_map 的字典，它有两个键值，分别为 start 和 destination，对应的值分别为起点和目标点的坐标，它们以如 (1,1) 的形式保存为元组。"
   ]
  },
  {
   "cell_type": "code",
   "execution_count": 88,
   "metadata": {},
   "outputs": [
    {
     "name": "stdout",
     "output_type": "stream",
     "text": [
      "{'destination': (0, 0), 'start': (0, 8)}\n"
     ]
    }
   ],
   "source": [
    "## task3\n",
    "#TODO 6按照上述要求创建字典\n",
    "loc_map = {}\n",
    "for idx_x in range(len(env_data)):\n",
    "    for idx_y in range(len(env_data[0])):\n",
    "        if env_data[idx_x][idx_y] == 1:\n",
    "             loc_map[\"start\"] = (idx_x,idx_y)\n",
    "        elif env_data[idx_x][idx_y] == 3:\n",
    "             loc_map[\"destination\"] = (idx_x,idx_y)\n",
    "print(loc_map)"
   ]
  },
  {
   "cell_type": "markdown",
   "metadata": {},
   "source": [
    "- 从字典中取出 start 对应的值，保存在 robot_current_loc 对应的变量中，这个变量表示小车现在的位置。"
   ]
  },
  {
   "cell_type": "code",
   "execution_count": 89,
   "metadata": {},
   "outputs": [
    {
     "name": "stdout",
     "output_type": "stream",
     "text": [
      "current location is (0, 8)\n"
     ]
    }
   ],
   "source": [
    "## task 3\n",
    "#TODO 7保存机器人当前的位置\n",
    "robot_current_loc = loc_map[\"start\"]\n",
    "print(\"current location is\",robot_current_loc)"
   ]
  },
  {
   "cell_type": "markdown",
   "metadata": {},
   "source": [
    "***\n",
    "# 第二节 控制机器人随机漫步\n",
    "在这一步中，你需发出指令，控制机器人在环境中随机行动。它会考察你对控制流、调用函数的知识。\n",
    "\n",
    "## 2.1 控制机器人行动\n",
    "我们的机器人能够执行四个动作：向上走 u、向下走 d、向左走 l、向右走 r。但是，由于有障碍，很多时候机器人的行动并不能成功。所以在这里，你需要实现一个函数，来判断机器人在某个位置，执行某个移动动作是否可行。\n",
    "\n",
    "***\n",
    "任务4：在下方代码中，实现名为 is_move_valid_special 的函数，它有两个输入，分别为机器人所在的位置坐标 loc，以及即将执行的动作 act，如 (1,1) 及 u。接着它的返回是一个布尔值，表明小车在 loc 位置下，是否可以执行动作 act。\n",
    "\n",
    "提示1：可以读取上方定义的 env_data 变量，来读取模拟环境的数据。\n",
    "\n",
    "提示2：在实现函数后，删去了模板中的 pass 代码。\n",
    "\n",
    "提示3：需要处理边界的情况，即机器人走到了虚拟环境边界时，是不能够走出虚拟环境的。\n",
    "      代码实现：在第一个if语句中进行边界检查\n",
    "      \n",
    "      \n",
    "实现提示：函数中，第一个if 判断，去判断迷宫外围边界，避免机器人出迷宫边界\n",
    "\n",
    "         函数中，最内部的if中的elif检测机器人该方向是否为 初始位置？普通格子？宝藏点？这三点都是可通过点。"
   ]
  },
  {
   "cell_type": "code",
   "execution_count": 90,
   "metadata": {
    "collapsed": true
   },
   "outputs": [],
   "source": [
    "## task 4\n",
    "# TODO 8\n",
    "def is_mov_valid_special(loc,act):\n",
    "    \"\"\"\n",
    "    Judge wether the robot can take action act at location loc.\n",
    "    \n",
    "    Keyword arguments:\n",
    "    loc -- tuple, robots current location\n",
    "    act -- string, robots meant action\n",
    "    \"\"\"\n",
    "    loc_data = env_data\n",
    "    if (loc[0] >= 0) and (loc[0] < len(loc_data)) and (loc[1] >=0) and (loc[1] < len(loc_data[0])):  \n",
    "        if act == \"u\":\n",
    "            if loc[0] == 0:\n",
    "                return False\n",
    "            elif loc_data[loc[0]-1][loc[1]] == 0 or loc_data[loc[0]-1][loc[1]] == 1 or loc_dada[loc[0]-1][loc[1]] == 3: \n",
    "                return True\n",
    "            else:\n",
    "                return False\n",
    "        if act == \"d\":\n",
    "            if loc[0] == len(loc_data)-1:\n",
    "                return False\n",
    "            elif loc_data[loc[0]+1][loc[1]] == 0 or loc_data[loc[0]+1][loc[1]] == 1 or loc_data[loc[0]+1][loc[1]] == 3: \n",
    "                return True\n",
    "            else:\n",
    "                return False\n",
    "        if act == \"l\":\n",
    "            if loc[1] == 0:\n",
    "                return False\n",
    "            elif loc_data[loc[0]][loc[1]-1] == 0 or loc_data[loc[0]][loc[1]-1] == 1 or loc_data[loc[0]][loc[1]-1] == 3: \n",
    "                return True\n",
    "            else:\n",
    "                return False\n",
    "        if act == \"r\":\n",
    "            if loc[1] == len(loc_data[0]-1):\n",
    "                return False\n",
    "            elif loc_data[loc[0]][loc[1]+1] == 0 or loc_data[loc[0]][loc[1]+1] == 1 or loc_data[loc[0]][loc[1]+1] == 3: \n",
    "                return True\n",
    "            else:\n",
    "                return False\n",
    "        else:\n",
    "            return False"
   ]
  },
  {
   "cell_type": "markdown",
   "metadata": {},
   "source": [
    "***\n",
    "任务5：在下方代码中，重新实现一个名为 is_move_valid 的函数，它有三个输入，分别为模拟环境的数据 env_data、机器人所在的位置坐标 loc、以及即将执行的动作 act。它的返回值与此前一样，是一个布尔值，表明小车在给定的虚拟环境中的 loc 位置下，是否可以执行动作 act。\n",
    "\n",
    "实现提示：函数中，第一个if 判断，去判断迷宫外围边界，避免机器人出迷宫边界\n",
    "\n",
    "         函数中，最内部的if中的elif检测机器人该方向是否为 初始位置？普通格子？宝藏点？这三点都是可通过点。"
   ]
  },
  {
   "cell_type": "code",
   "execution_count": 91,
   "metadata": {
    "collapsed": true
   },
   "outputs": [],
   "source": [
    "## task 5\n",
    "# TODO 9\n",
    "def is_move_valid(env_data,loc,act):\n",
    "    \"\"\"\n",
    "    Judge wether the robot can take action act\n",
    "    at location loc.\n",
    "    \n",
    "    Keyword arguments:\n",
    "    env -- list, the environment data\n",
    "    loc -- tuple, robots current location\n",
    "    act -- string, robots meant action\n",
    "    \"\"\"\n",
    "    if (loc[0] >=0) and (loc[0] < len(env_data)) and (loc[1] >=0) and (loc[1] < len(env_data[0])):  \n",
    "        if act == \"u\":\n",
    "            if loc[0] == 0:\n",
    "                return False\n",
    "            elif env_data[loc[0]-1][loc[1]] == 0 or env_data[loc[0]-1][loc[1]] == 1 or env_data[loc[0]-1][loc[1]] == 3: \n",
    "                return True\n",
    "            else:\n",
    "                return False\n",
    "        if act == \"d\":\n",
    "            if loc[0] == len(env_data)-1:\n",
    "                return False\n",
    "            elif env_data[loc[0]+1][loc[1]] == 0 or env_data[loc[0]+1][loc[1]] == 1 or env_data[loc[0]+1][loc[1]] == 3: \n",
    "                return True\n",
    "            else:\n",
    "                return False\n",
    "        if act == \"l\":\n",
    "            if loc[1] == 0:\n",
    "                return False\n",
    "            elif env_data[loc[0]][loc[1]-1] == 0 or env_data[loc[0]][loc[1]-1] == 1 or env_data[loc[0]][loc[1]-1] == 3:  \n",
    "                return True\n",
    "            else:\n",
    "                return False\n",
    "        if act == \"r\":\n",
    "            if loc[1] == len(env_data[0])-1:\n",
    "                return False\n",
    "            elif env_data[loc[0]][loc[1]+1] == 0 or env_data[loc[0]][loc[1]+1] == 1 or env_data[loc[0]][loc[1]+1] == 3: \n",
    "                return True\n",
    "            else:\n",
    "                return False\n",
    "        else:\n",
    "            return False"
   ]
  },
  {
   "cell_type": "markdown",
   "metadata": {},
   "source": [
    "设置了一个简单内部测试is_move_valid()函数。打印print，当输入一个方向后，测试以上返回值是否正确。"
   ]
  },
  {
   "cell_type": "code",
   "execution_count": 92,
   "metadata": {},
   "outputs": [
    {
     "name": "stdout",
     "output_type": "stream",
     "text": [
      "True\n"
     ]
    }
   ],
   "source": [
    "# internal test for is_mov_valid()\n",
    "print(is_move_valid(env_data,(1,7),\"d\"))"
   ]
  },
  {
   "cell_type": "markdown",
   "metadata": {},
   "source": [
    "***\n",
    "任务6：请回答：在任务5及任务6中的实现的两个函数中，env_data 这个变量有什么不同？\n",
    "\n",
    "提示：可以尝试从变量作用域的角度回答该问题。"
   ]
  },
  {
   "cell_type": "markdown",
   "metadata": {},
   "source": [
    "## task 6 回答：\n",
    "   task4 env_data is a global variable, can be accessed by any function. \n",
    "   \n",
    "   task5 env_data is a static variable, can be only accessed by current function of task5, \n",
    "   and the change to the env_data can only happen in the current function. Any variable outside \n",
    "   this function can not access the env_data in this function."
   ]
  },
  {
   "cell_type": "markdown",
   "metadata": {},
   "source": [
    "***\n",
    "## 2.2 机器人可行动作\n",
    "***\n",
    "任务7：编写一个名为 valid_actions 的函数。它有两个输入，分别为虚拟环境的数据 env_data，以及机器人所在的位置 loc，输出是一个列表，表明机器人在这个位置所有的可行动作。\n",
    "\n",
    "提示：可以尝试调用上方定义的is_move_valid函数。这里采用了与is_mov_valid相似的判断边界条件，直接生成了所有可行动作的列表。\n",
    "\n",
    "实现：每个if语句中，“and”前面检查边界条件， “and”后面检查内部能否通过（即：普通格子，起点和宝藏点可以通过）。"
   ]
  },
  {
   "cell_type": "code",
   "execution_count": 93,
   "metadata": {
    "collapsed": true
   },
   "outputs": [],
   "source": [
    "## task 7\n",
    "## TODO 10\n",
    "def valid_actions(env_data,loc):\n",
    "    robot_action = []\n",
    "\n",
    "    if (loc[0]!=0) and (env_data[loc[0]-1][loc[1]]==0 or env_data[loc[0]-1][loc[1]]==1 or env_data[loc[0]-1][loc[1]]==3):\n",
    "        robot_action.append(\"u\")\n",
    "    \n",
    "    if (loc[0]!=len(env_data)-1) and (env_data[loc[0]+1][loc[1]]==0 or env_data[loc[0]+1][loc[1]]==1 or env_data[loc[0]+1][loc[1]]==3):\n",
    "        robot_action.append(\"d\")\n",
    "\n",
    "    if (loc[1]!=0) and (env_data[loc[0]][loc[1]-1]==0 or env_data[loc[0]][loc[1]-1]==1 or env_data[loc[0]][loc[1]-1]==3):\n",
    "        robot_action.append(\"l\")\n",
    "\n",
    "    if (loc[1]!=len(env_data[0])-1) and (env_data[loc[0]][loc[1]+1]==0 or env_data[loc[0]][loc[1]+1]==1 or env_data[loc[0]][loc[1]+1]==3):\n",
    "        robot_action.append(\"r\")\n",
    "    \n",
    "    return robot_action"
   ]
  },
  {
   "cell_type": "markdown",
   "metadata": {},
   "source": [
    "对于task7的内部测试程序，输入任意位置，看输出可行动作是否正确。"
   ]
  },
  {
   "cell_type": "code",
   "execution_count": 94,
   "metadata": {
    "scrolled": true
   },
   "outputs": [
    {
     "name": "stdout",
     "output_type": "stream",
     "text": [
      "[[3, 2, 2, 2, 2, 2, 2, 2, 1], [0, 0, 2, 2, 2, 2, 2, 0, 0], [2, 0, 0, 2, 2, 2, 0, 0, 2], [2, 2, 0, 0, 2, 0, 0, 2, 2], [2, 2, 2, 0, 0, 0, 2, 2, 2]]\n",
      "['d', 'l']\n"
     ]
    }
   ],
   "source": [
    "# test to verify the task 7.\n",
    "print(env_data)\n",
    "print(valid_actions(env_data,(3,3)))"
   ]
  },
  {
   "cell_type": "markdown",
   "metadata": {},
   "source": [
    "## 2.3 移动机器人\n",
    "当机器人收到一个动作的时候，你机器人的位置应发生相应的变化。\n",
    "\n",
    "任务8：编写一个名为 move_robot 的函数，它有两个输入，分别为机器人当前所在的位置 loc 和即将执行的动作 act。接着会返回机器人执行动作之后的新位置 new_loc。\n",
    "\n",
    "实现：其中调用了 is_move_valid()"
   ]
  },
  {
   "cell_type": "code",
   "execution_count": 95,
   "metadata": {
    "collapsed": true
   },
   "outputs": [],
   "source": [
    "# task 8\n",
    "## TODO 11\n",
    "def move_robot(loc,act):\n",
    "    new_loc = [0,0]\n",
    "    if act == \"u\":\n",
    "        if loc[0] <= 0:\n",
    "            print(\"out of the wall\")\n",
    "        else:\n",
    "            if is_move_valid(env_data,loc,act) == True:\n",
    "                new_loc[0] = loc[0] -1\n",
    "            else:\n",
    "                new_loc[0] = loc[0]\n",
    "            new_loc[1] = loc[1]\n",
    "    elif act == \"d\":\n",
    "        if loc[0] >= len(env_data)-1:\n",
    "            print(\"out of the wall\")\n",
    "        else:\n",
    "            if is_move_valid(env_data,loc,act) == True:\n",
    "                new_loc[0] = loc[0] +1\n",
    "            else:\n",
    "                new_loc[0] = loc[0]\n",
    "            new_loc[1] = loc[1]\n",
    "    elif act == \"l\":\n",
    "        if loc[1] <= 0:\n",
    "            print(\"out of the wall\")\n",
    "        else:\n",
    "            new_loc[0] = loc[0]\n",
    "            if is_move_valid(env_data,loc,act) == True:\n",
    "                new_loc[1] = loc[1] -1\n",
    "            else:\n",
    "                new_loc[1] = loc[1]\n",
    "    elif act == \"r\":\n",
    "        if loc[1] >= len(env_data[0])-1:\n",
    "            print(\"out of the wall\")\n",
    "        else:\n",
    "            new_loc[0] = loc[0]\n",
    "            if is_move_valid(env_data,loc,act) == True:\n",
    "                new_loc[1] = loc[1] +1\n",
    "            else:\n",
    "                new_loc[1] = loc[1]\n",
    "\n",
    "    return new_loc"
   ]
  },
  {
   "cell_type": "markdown",
   "metadata": {},
   "source": [
    "下面print为内部测试，当机器人收到一个动作的时候，机器人的位置应发生相应的变化。\n",
    "\n",
    "其中测试输入值不能超过MAZE_1,MAZE_2,MAZE_3的维度。"
   ]
  },
  {
   "cell_type": "code",
   "execution_count": 96,
   "metadata": {},
   "outputs": [
    {
     "name": "stdout",
     "output_type": "stream",
     "text": [
      "[3, 2]\n"
     ]
    }
   ],
   "source": [
    "# test for task8\n",
    "print(move_robot((3,3),\"l\"))"
   ]
  },
  {
   "cell_type": "markdown",
   "metadata": {},
   "source": [
    "***\n",
    "## 2.4 随机移动机器人\n",
    "接着，我们尝试在虚拟环境中随机移动机器人，看看会有什么效果。\n",
    "\n",
    "任务9：编写一个名为 random_choose_actions 的函数，它有两个输入，分别为虚拟环境的数据 env_data，以及机器人所在的位置 loc。机器人会执行一个300次的循环，每次循环，他会执行以下任务：\n",
    "\n",
    "1. 利用上方定义的 valid_actions 函数，找出当前位置下，机器人可行的动作；\n",
    "2. 利用 random 库中的 choice 函数，从机器人可行的动作中，随机挑选出一个动作；\n",
    "3. 接着根据这个动作，利用上方定义的 move_robot 函数，来移动机器人，并更新机器人的位置；\n",
    "4. 当机器人走到终点时，输出“在第n个回合找到宝藏！”。\n",
    "\n",
    "提示：如果机器人无法在300个回合内找到宝藏的话，试试看增大这个数字，也许会有不错的效果 :P"
   ]
  },
  {
   "cell_type": "code",
   "execution_count": 97,
   "metadata": {
    "collapsed": true
   },
   "outputs": [],
   "source": [
    "# task 9\n",
    "## TODO 12\n",
    "import random\n",
    "def random_choose_actions(env_data,robot_current_loc):\n",
    "    for i in range(300):\n",
    "        robot_active = random.choice(valid_actions(env_data,robot_current_loc))\n",
    "        robot_current_loc = move_robot(robot_current_loc,robot_active)\n",
    "        if env_data[robot_current_loc[0]][robot_current_loc[1]] == 3:\n",
    "            print(\"find the treasure by round:\", i, \"!\")\n",
    "            return True\n",
    "        elif i == 299 and env_data[robot_current_loc[0]][robot_current_loc[1]] !=3:\n",
    "            print(\"can not find the treasure in total 300 rounds\")\n",
    "            return False"
   ]
  },
  {
   "cell_type": "markdown",
   "metadata": {},
   "source": [
    "执行随机移动机器人的任务，指定某一机器人初始坐标，打印出多少回合找到目标\n",
    "\n",
    "其中，设置机器人初始坐标时候，需要根据MAZE_1 或MAZE_2 或MAZE_3 设置初始坐标(1,0)还是(0,8)，等等。 "
   ]
  },
  {
   "cell_type": "code",
   "execution_count": 98,
   "metadata": {},
   "outputs": [
    {
     "name": "stdout",
     "output_type": "stream",
     "text": [
      "find the treasure by round: 123 !\n"
     ]
    },
    {
     "data": {
      "text/plain": [
       "True"
      ]
     },
     "execution_count": 98,
     "metadata": {},
     "output_type": "execute_result"
    }
   ],
   "source": [
    "# run the robot :-\n",
    "random_choose_actions(env_data,(0,8))"
   ]
  },
  {
   "cell_type": "code",
   "execution_count": null,
   "metadata": {
    "collapsed": true
   },
   "outputs": [],
   "source": []
  }
 ],
 "metadata": {
  "kernelspec": {
   "display_name": "Python 3",
   "language": "python",
   "name": "python3"
  },
  "language_info": {
   "codemirror_mode": {
    "name": "ipython",
    "version": 3
   },
   "file_extension": ".py",
   "mimetype": "text/x-python",
   "name": "python",
   "nbconvert_exporter": "python",
   "pygments_lexer": "ipython3",
   "version": "3.6.2"
  }
 },
 "nbformat": 4,
 "nbformat_minor": 2
}
